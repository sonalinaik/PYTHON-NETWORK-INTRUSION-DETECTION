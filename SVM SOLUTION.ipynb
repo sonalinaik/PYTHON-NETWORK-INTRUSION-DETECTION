{
 "cells": [
  {
   "cell_type": "code",
   "execution_count": null,
   "metadata": {},
   "outputs": [],
   "source": [
    "#from sklearn.svm import SVC"
   ]
  },
  {
   "cell_type": "code",
   "execution_count": null,
   "metadata": {},
   "outputs": [],
   "source": [
    "#Tuning hyperparametrs kernel and c(Cost of misclassification), here gamma is tuned automatically\n",
    "#param_grid_svc = {'kernel' : ['rbf', 'poly', 'sigmoid', 'linear'],\n",
    "#                  'C' : [1, 5, 10, 15, 20]}\n",
    "#svc_model = GridSearchCV(SVC(class_weight = 'balanced', decision_function_shape = 'ovr'),\n",
    "#                        param_grid=param_grid_svc,\n",
    "#                        cv = 10,\n",
    "#                        n_jobs=-1,\n",
    "#                        verbose=2\n",
    "#                        )\n",
    "#fitting on test data\n",
    "#svc_model.fit(train_multi_x, train_multi_y)"
   ]
  },
  {
   "cell_type": "code",
   "execution_count": null,
   "metadata": {},
   "outputs": [],
   "source": [
    "#find best score\n",
    "#print('Best score for Training data : ', svc_model.best_score_)"
   ]
  },
  {
   "cell_type": "code",
   "execution_count": null,
   "metadata": {},
   "outputs": [],
   "source": [
    "#finding best hyperparameters to use in final model\n",
    "#svc_model.best_params_"
   ]
  },
  {
   "cell_type": "code",
   "execution_count": null,
   "metadata": {},
   "outputs": [],
   "source": [
    "#finding best estimator(model)\n",
    "#svc_est = svc_model.best_estimator_"
   ]
  },
  {
   "cell_type": "code",
   "execution_count": null,
   "metadata": {},
   "outputs": [],
   "source": [
    "#Now using the tuned model to predict on validation dataset\n",
    "#y_valid_predict = svc_est.predict(test_multi_x)\n",
    "#y_valid_predict"
   ]
  },
  {
   "cell_type": "code",
   "execution_count": null,
   "metadata": {},
   "outputs": [],
   "source": [
    "#Now using the tuned model to predict on test dataset\n",
    "#y_test_predict = svc_est.predict(conn_data_test_new[feature_columns])\n",
    "#y_test_predict"
   ]
  },
  {
   "cell_type": "code",
   "execution_count": null,
   "metadata": {},
   "outputs": [],
   "source": [
    "#accuracy_score for test dataset\n",
    "#print(metrics.accuracy_score(conn_data_test_new.attack, y_test_predict))"
   ]
  },
  {
   "cell_type": "code",
   "execution_count": null,
   "metadata": {},
   "outputs": [],
   "source": [
    "#confusion_matrix for test dataset\n",
    "#print(metrics.confusion_matrix(conn_data_test_new.attack, y_test_predict))"
   ]
  },
  {
   "cell_type": "code",
   "execution_count": null,
   "metadata": {},
   "outputs": [],
   "source": [
    "#classification_report for test dataset\n",
    "#print(metrics.classification_report(conn_data_test_new.attack, y_test_predict))"
   ]
  }
 ],
 "metadata": {
  "kernelspec": {
   "display_name": "Python 3",
   "language": "python",
   "name": "python3"
  },
  "language_info": {
   "codemirror_mode": {
    "name": "ipython",
    "version": 3
   },
   "file_extension": ".py",
   "mimetype": "text/x-python",
   "name": "python",
   "nbconvert_exporter": "python",
   "pygments_lexer": "ipython3",
   "version": "3.7.3"
  }
 },
 "nbformat": 4,
 "nbformat_minor": 2
}
